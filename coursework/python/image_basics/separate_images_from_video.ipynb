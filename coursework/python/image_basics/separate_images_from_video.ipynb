{
 "cells": [
  {
   "cell_type": "code",
   "execution_count": 1,
   "metadata": {},
   "outputs": [],
   "source": [
    "import imageio as io\n",
    "import numpy as np\n",
    "import cv2\n",
    "import matplotlib.pyplot as plt\n",
    "import os\n"
   ]
  },
  {
   "cell_type": "code",
   "execution_count": 2,
   "metadata": {},
   "outputs": [
    {
     "name": "stdout",
     "output_type": "stream",
     "text": [
      "Requirement already satisfied: imageio-ffmpeg in /opt/anaconda3/lib/python3.8/site-packages (0.4.5)\r\n"
     ]
    }
   ],
   "source": [
    "!pip install imageio-ffmpeg"
   ]
  },
  {
   "cell_type": "code",
   "execution_count": 10,
   "metadata": {},
   "outputs": [
    {
     "data": {
      "text/plain": [
       "['test_vid.mp4', 'test_vid.h264']"
      ]
     },
     "execution_count": 10,
     "metadata": {},
     "output_type": "execute_result"
    }
   ],
   "source": [
    "os.listdir('sample_faces/Yiran/')"
   ]
  },
  {
   "cell_type": "code",
   "execution_count": 2,
   "metadata": {},
   "outputs": [],
   "source": [
    "def faceDetection(frame):\n",
    "\n",
    "    det = cv2.CascadeClassifier(cv2.data.haarcascades + \"haarcascade_frontalface_default.xml\")\n",
    "    gray = cv2.cvtColor(frame, cv2.COLOR_BGR2GRAY)\n",
    "    rects = det.detectMultiScale(gray,\n",
    "                                 scaleFactor=1.1,\n",
    "                                 minNeighbors=5,\n",
    "                                 minSize=(200,200), # adjust to your image size, maybe smaller, maybe larger?\n",
    "                                 flags=cv2.CASCADE_SCALE_IMAGE)\n",
    "    # print(rects)\n",
    "\n",
    "    # cv2.imwrite(\"test_face.jpg\", im) (edited)\n",
    "    return rects"
   ]
  },
  {
   "cell_type": "code",
   "execution_count": null,
   "metadata": {},
   "outputs": [],
   "source": [
    "person = 'Yiran'\n",
    "filename = 'sample_faces/'+person+'/test_vid.mp4'\n",
    "vid = io.get_reader(filename,  'ffmpeg')\n",
    "ctr = 0\n",
    "for i in range(0,1000):\n",
    "\n",
    "    image = vid.get_data(i)\n",
    "    image = image[::-1,:,:]\n",
    "    rects = faceDetection(image)\n",
    "    if len(rects)!=0:\n",
    "        for (x,y,w,h) in rects:\n",
    "\n",
    "            image = image[y:y+h,x:x+w,:]\n",
    "            image = cv2.resize(image,(128,128))\n",
    "#             plt.figure()\n",
    "#             plt.imshow(image)\n",
    "            cv2.imwrite('sample_faces/'+person+'/sample_face_'+str(ctr)+'.jpg',cv2.cvtColor(image,cv2.COLOR_RGB2BGR))\n",
    "            ctr+=1\n",
    "\n",
    "# cv2.rectangle(image, (x, y), (x + w, y + h), (0, 255, 0), 10)\n",
    "\n",
    "image.shape\n"
   ]
  },
  {
   "cell_type": "code",
   "execution_count": null,
   "metadata": {},
   "outputs": [],
   "source": []
  }
 ],
 "metadata": {
  "kernelspec": {
   "display_name": "Python 3",
   "language": "python",
   "name": "python3"
  },
  "language_info": {
   "codemirror_mode": {
    "name": "ipython",
    "version": 3
   },
   "file_extension": ".py",
   "mimetype": "text/x-python",
   "name": "python",
   "nbconvert_exporter": "python",
   "pygments_lexer": "ipython3",
   "version": "3.8.5"
  }
 },
 "nbformat": 4,
 "nbformat_minor": 4
}
